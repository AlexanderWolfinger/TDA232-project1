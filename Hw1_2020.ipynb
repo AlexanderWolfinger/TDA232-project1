{
 "cells": [
  {
   "cell_type": "markdown",
   "metadata": {
    "colab_type": "text",
    "id": "1UKOQcXNtJ8e"
   },
   "source": [
    "$\\qquad$ $\\qquad$$\\qquad$  **TDA 231 Machine Learning: Homework 1** <br />\n",
    "$\\qquad$ $\\qquad$$\\qquad$ **Goal: Introduction to Probability,  MLE and Jupyter python Notebook**<br />\n",
    "$\\qquad$ $\\qquad$$\\qquad$                   **Grader: Emilio** <br />\n",
    "$\\qquad$ $\\qquad$$\\qquad$                   **Submitted by: Name, Personal no., email** <br />"
   ]
  },
  {
   "cell_type": "markdown",
   "metadata": {
    "colab_type": "text",
    "id": "PQ8gZxqWtJ8h"
   },
   "source": [
    "General guidelines:\n",
    "* All solutions to theoretical and pratical problems must be submitted in this ipynb notebook, and equations wherever required, should be formatted using LaTeX math-mode.\n",
    "* All discussion regarding practical problems, along with solutions and plots should be specified in this notebook. \n",
    "All plots/results should be visible such that the notebook do not have to be run. But the code in the notebook should reproduce the plots/results if we choose to do so.\n",
    "* Your name, personal number and email address should be specified above.\n",
    "* All tables and other additional information should be included in this notebook.\n",
    "* ** Before submitting, make sure that your code can run on another computer. That all plots can show on another computer including all your writing. It is good to check if your code can run here: https://colab.research.google.com **\n",
    "* ** Upload both the .ipynb and the generatable .html file (that can be exported through File > Download As > HTML) **"
   ]
  },
  {
   "cell_type": "markdown",
   "metadata": {
    "colab_type": "text",
    "id": "vrnQ98KgtJ8i"
   },
   "source": [
    "**Jupyter/IPython Notebook** is a collaborative Python web-based environment. This will be used in all our Homework Assignments. It is installed in the halls ES61-ES62, E-studio and MT9. You can also use google-colab: https://colab.research.google.com\n",
    "to run these notebooks without having to download, install, or do anything on your own computer other than a browser.\n",
    "Some useful resources:\n",
    "1. https://jupyter-notebook-beginner-guide.readthedocs.io/en/latest/ (Quick-start guide)\n",
    "2. https://www.kdnuggets.com/2016/04/top-10-ipython-nb-tutorials.html\n",
    "3. http://data-blog.udacity.com/posts/2016/10/latex-primer/ (latex-primer)\n",
    "4. http://jupyter-notebook.readthedocs.io/en/stable/examples/Notebook/Working%20With%20Markdown%20Cells.html (markdown)"
   ]
  },
  {
   "cell_type": "markdown",
   "metadata": {
    "colab_type": "text",
    "id": "fl1Lu21rtJ8k"
   },
   "source": [
    "# Theoretical problems\n",
    "\n",
    "## [Bayes Rule, 3 points]\n",
    "\n",
    "After your yearly checkup, the doctor has bad news and good news. The\n",
    "bad news is that you tested positive for a very serious cancer and\n",
    "that the test is 99.2% accurate i.e. the probability of testing\n",
    "positive given you have the disease is 0.992. The probability of\n",
    "testing negative if you don’t have the disease is the same (also 0.992). The good news is that it is a rare condition affecting only 1 in 1,000 people. What is the probability you actually have the disease? \n",
    "\n",
    "After doing all your calculations you realize that there was a misprint on the test, and the accuracy was actually only 92% (for both testing postive given that you have the disease and for testing negative given that you do not have the disease). How will this change your probability of having the disease?\n",
    "\n",
    "(Show all calculations and the final result.)\n"
   ]
  },
  {
   "cell_type": "markdown",
   "metadata": {},
   "source": [
    "## [Setting hyperparameters, 2 points]\n",
    "\n",
    "Suppose $\\theta$ is a random variable generated from a beta distribution as: $\\theta \\sim \\mbox{Beta}(a^2,b)$. Also assume that  the expectation of $\\theta$ is $m$: $E[\\theta] = m$\n",
    "and the variance of $\\theta$ is v: $\\mbox{var}(\\theta) = v$. Express $a$ and $b$ in term of (only) $m$ and $v$.\n",
    "For more information about the $\\mbox{Beta}$ distribution see https://en.wikipedia.org/wiki/Beta_distribution."
   ]
  },
  {
   "cell_type": "markdown",
   "metadata": {},
   "source": [
    "\n",
    "## [Correlation and Independence, 2 points]\n",
    "\n",
    "Let $X$ be a continuous random variable, uniformly distributed in $[-2, +2]$ and let $Y := X^4$. Clearly $Y$ is not independent of $X$ -- in fact it is uniquely determined by $X$. However, show that the covariance of $X$ and $Y$ is 0: $\\mbox{cov}(X, Y ) = 0$.\n",
    "Show and justify every step of the proof. Statements like \"it is obvious that, it is trivial ...\" will not be accepted."
   ]
  },
  {
   "cell_type": "markdown",
   "metadata": {
    "colab_type": "text",
    "id": "lO0M1fgXMtMD"
   },
   "source": [
    "Write Answers  here. Double-click (or enter) to edit. Latex mathematical expressions can just be written by starting with \"$\" and ending with the same character.\n",
    "\n",
    "## Bayes Rules\n",
    "a)\n",
    "$$\n",
    "\\text{Let } D = \\left\\{\\begin{matrix}\n",
    "1, \\quad \\text{if have disease}\\\\ \n",
    "0, \\quad \\text{else,} \\hfill\n",
    "\\end{matrix}\\right.\n",
    "$$\n",
    "\n",
    "$$\n",
    "\\text{Let } T = \\left\\{\\begin{matrix}\n",
    "1, \\quad \\text{if test positive}\\\\ \n",
    "0, \\quad \\text{else,} \\hfill\n",
    "\\end{matrix}\\right.\n",
    "$$\n",
    "\n",
    "The likelihood $P(T|D)$ for $P(T=1 | D=1) = 0.992$ and $P(T=1 | D=0) = 0.008$,\n",
    "\n",
    "the prior distribution $P(D)$ for $P(D=1) = 0.001$ and $P(D=0) = 0.999$.\n",
    "\n",
    "The posterior $P(D|T)$ is then given by Bayes rule:\n",
    "$$\n",
    "\\Rightarrow P(D = 1 | T = 1) = \\frac{P(T=1 | D=1)P(D=1)}{P(T=1 | D=1)P(D=1) + P(T=1 | D=0)P(D=0)}\n",
    "$$\n",
    "\n",
    "$$\n",
    "\\Rightarrow P(D = 1 | T = 1) = \\frac{0.992 \\cdot 0.001}{0.992 \\cdot 0.001 + 0.008 \\cdot 0.999} \\approx 0.110.\n",
    "$$\n",
    "\n",
    "According to Bayes Rule the probability of having the disease given the test is positive is 11.0\\%.\n",
    "\n",
    "b)\n",
    "\n",
    "The likelihood changes to $P(T=1 | D=1) = 0.92$ and $P(T=1 | D=0) = 0.08$, which changes the result to:\n",
    "\n",
    "$$\n",
    "\\Rightarrow P(D = 1 | T = 1) = \\frac{0.92 \\cdot 0.001}{0.92 \\cdot 0.001 + 0.08 \\cdot 0.999} \\approx 0.0114.\n",
    "$$\n",
    "\n",
    "According to Bayes Rule the probability of having the disease given the test is positive with the changed probability is 1.14\\%.\n",
    "\n",
    "## Setting hyperparameters\n",
    "\n",
    "For $\\theta \\sim Beta(a,b)$ we have that $\\mu_\\theta = E[\\theta] = \\frac{a}{a+b}$ and $Var(\\theta) = \\frac{\\mu_{\\theta}(1-\\mu_{\\theta})}{a+b+1}$.\n",
    "Combined with the given equations $E[\\theta] = m$ and $Var(\\theta) = v$ we can express $a$ and $b$ in term of (only) $m$ and $v$ by solving the following equations.\n",
    "\n",
    "$(1) \\qquad \\frac{a}{a+b} = m$\n",
    "\n",
    "$(2) \\qquad \\frac{m(1-m)}{a+b+1} = v$\n",
    "\n",
    "So in this system of equations we arrive with the following expressions for $a$ and $b$:\n",
    "\n",
    "$$\n",
    "\\Rightarrow \\left\\{\\begin{matrix}\n",
    "a = \\frac{m^2(1-m)}{v}-m \\hfill \\\\ \n",
    "b = \\Big(\\frac{m(1-m)}{v}-1\\Big)(1-m).\n",
    "\\end{matrix}\\right.\n",
    "$$\n",
    "\n",
    "$\\color{red}{\\text{Obs $a$ eller $a^2$!!!!!!!!!!!}}$\n",
    "\n",
    "## Correlation\n",
    "\n",
    "For a continuous uniformly distributed variable $X \\sim U(a,b)$ with interval limits $a$ and $b$, we have that $E[X] = \\frac{a+b}{2}$ and $Var(X) = \\frac{(b-a)^2}{12}$. For our case $a=-2$ and $b=2$. Hence the expectation and variance becomes\n",
    "\n",
    "$$E[X] = \\frac{2-2}{2} = 0, \\qquad Var(X) = \\frac{(2-(-2))^2}{12} = \\frac{4}{3}.$$\n",
    "\n",
    "Since a probability distribution must have that $\\int_{-\\infty}^{\\infty} f_X(x)dx = 1$ and the fact that the uniform distribution is constant for $x \\in [a,b]$ and $0$ otherwise, we get that\n",
    "$$ \\int_{-\\infty}^{\\infty} f_X(x)dx = \\int_{-2}^{2} c dx = c\\left[x\\right]_{-2}^2 = 4c = 1 \\Leftrightarrow c = f_X(x) = \\frac{1}{4}$$ \n",
    "\n",
    "\n",
    "The covariance of two random variables is defined as $Cov(X,Y) = E[ (X-E[X])(Y-E[Y]) ]$.\n",
    "\n",
    "\\begin{align*}\n",
    "Cov(X,Y) & = E[ (X-E[X])(Y-E[Y])]\\\\\n",
    "&= E[XY - XE[Y] - YE[X] + E[X]E[Y]]\\\\\n",
    "&= E[XY] - E[Y]E[X] - E[X]E[Y] + E[X]E[Y] \\quad \\rightarrow \\{\\text{since } E[X]=0 \\} \\rightarrow \\\\\n",
    "&= E[XY].\n",
    "\\end{align*}\n",
    "\n",
    "We can use that:\n",
    "\n",
    "$$E[g(X)] = \\int_{\\mathbb{R}} g(x) f_X(x) dx\n",
    "$$\n",
    "\n",
    "\n",
    "For $Y = X^4$ we get the following results:\n",
    "\n",
    "\\begin{align*}\n",
    "Cov(X,Y) &= E[XY] = E[X^5] = \\int_{-\\infty}^{\\infty}x^5f_X(x) dx \\\\\n",
    "&= \\int_{-2}^{2}x^5\\frac{1}{4} dx = \\frac{1}{4}\\Big[\\frac{x^6}{6}\\Big]_{-2}^2 \\\\\n",
    "&= \\frac{1}{4}\\frac{1}{6}(2^6-(-2)^6) = \\frac{1}{24}(2^6-2^6) = 0. \\quad \\square\n",
    "\\end{align*}"
   ]
  },
  {
   "cell_type": "markdown",
   "metadata": {
    "colab_type": "text",
    "id": "498qdw9utJ8t"
   },
   "source": [
    "# Practical problems\n",
    "\n",
    "**Useful python libraries/functions:**\n",
    "* **General:**  shape, reshape, np.mean etc.\n",
    "* **Plotting:** plot, scatter, legend, hold, imshow, subplot, grid, title etc. Always show legends for your plots.\n",
    "* **Code:**  Make sure your code is well commented and variables have intuitive names. Organize your code into functions and comment on the input and output.\n",
    "\n",
    "## [Spherical Gaussian estimation, 9 points]\n",
    "\n",
    "Consider a dataset $X$ consisting of i.i.d. observations\n",
    "generated from a spherical Gaussian distribution $N(\\mu, 2\\sigma^2I)$, where $\\mu \\in \\mathbb{R}^p$, $I$ \n",
    "is the $p \\times p $ identity matrix, and $\\sigma^2$ is a scalar.\n",
    "\n",
    "(a) Write the mathematical expression for the Maximum Likelihood Estimator (MLE) for $\\mu$ and $\\sigma$ in above setup. (HINT: Use latex equations here).\n",
    "\n",
    "(b) Implement a function **sge(X)** that estimates the mean $\\mu$ and the standard deviation $\\sigma$ from the given data $X$, using exactly the mathematical expression derived in (a). Note: You cannot use **numpy.cov**, **numpy.mean**, **numpy.sum** or any other library functions for calculating the mean, variance, standard deviation. (Hint: A skeleton of this function **sge(X)** is provided in the code from the next cell).\n",
    "\n",
    "(c) Implement a function **myplot1(X)** which takes as input the dataset $X$; and draws, on the same plot, the following:\n",
    "1. A scatter plot of the original data $X$, \n",
    "2. Circles with center $\\mu$ and radius $r= \\sqrt{2}k\\sigma$ for $k=1, 2, 3$ where $\\mathbf{\\mu}$ and $\\sigma$ denotes the mean and standard deviation estimated using **sge(X)**. \n",
    "3. Legend for each circle indicating the fraction of points (in the original dataset) that lie outside the circle boundary.\n",
    "\n",
    "(d) Load the dataset from http://bit.ly/HW1_2019 and run your code using only the first two features of the dataset. Submit the resulting plot as well as your implementation here.\n",
    "\n",
    "For more information about the spherical Gaussian distribution, see https://en.wikipedia.org/wiki/Multivariate_normal_distribution.\n",
    "For more information about the identity matrix see: https://en.wikipedia.org/wiki/Identity_matrix"
   ]
  },
  {
   "cell_type": "markdown",
   "metadata": {
    "colab_type": "text",
    "id": "p282-fJHL66U"
   },
   "source": [
    "Double-click (or enter) to edit. Write Answer to (a) here. Latex mathematical expressions can just be written by starting with \"$\" and ending with the same character.\n",
    "\n",
    "a)\n",
    "Let $N$ be the number of samples, then\n",
    "$$\n",
    "\\begin{matrix}\n",
    "\\hat \\mu = \\frac{1}{N} \\sum_{i=1}^N \\mathbf{x}^{(i)} \\hfill \\\\ \n",
    "\\hat{\\sigma} = \\sqrt{\\frac{1}{2N}\\sum_{i=1}^N |\\mathbf{x}^{(i)} - \\mathbf{\\hat{\\mu}}|^2}.\n",
    "\\end{matrix}\n",
    "$$\n",
    "are the MLE estimators for $\\mu$ and $\\sigma$."
   ]
  },
  {
   "cell_type": "code",
   "execution_count": 34,
   "metadata": {},
   "outputs": [
    {
     "data": {
      "text/plain": "(array([3.        , 4.33333333]), 1.855921454276674)"
     },
     "execution_count": 34,
     "metadata": {},
     "output_type": "execute_result"
    }
   ],
   "source": [
    "#(b)\n",
    "import numpy as np # numpy\n",
    "\n",
    "\n",
    "def sge(X):\n",
    "    \"\"\"\n",
    "    This function computes  the mean mu and standard deviation sigma \n",
    "    for a dataset coming from spherical Gaussian distribution N(mu, 2 sigma^2 I)\n",
    "\n",
    "    @param X : A numpy array of size n x p where each row represents a p-dimensional data point\n",
    "    e.g. X = [ [2, 1], [3, 7], [4 ,5] ] is a dataset with 3 samples having two coordinates each.\n",
    "    @return mu: A numpy array of size p representing the estimated mean of the dataset\n",
    "    @return sigma: A real number indicating the estimated standard deviation of the dataset\n",
    "    \"\"\"\n",
    "    \n",
    "    mu = np.zeros(X.shape[1])\n",
    "    sigma = 0\n",
    "    \n",
    "    # data dimensions\n",
    "    n = len(X)\n",
    "    p = len(mu)\n",
    "\n",
    "    # calculate the mean\n",
    "    for i in range(p):\n",
    "        for x in X:\n",
    "            mu[i] = mu[i] + x[i]         \n",
    "    mu = mu/n\n",
    "        \n",
    "    # calculate sigma LOL-VERSION\n",
    "    d = np.zeros(X.shape)\n",
    "    for j in range(n):\n",
    "        d[j] = X[j] - mu\n",
    "    \n",
    "    for k in range(n):\n",
    "        for l in range(p):\n",
    "            sigma += (d[k,l]**2)\n",
    "    sigma = sigma/(2*n)\n",
    "    \n",
    "\n",
    "    # calculate sigma PRO-VERSION\n",
    "    sumsum = 0\n",
    "    for j in range(n):\n",
    "        for i in range(p):\n",
    "            D = X[j,i] - mu[i]\n",
    "            sumsum += D**2\n",
    "    sigma = np.sqrt(sumsum/2/n)\n",
    "\n",
    "\n",
    "\n",
    "\n",
    "    return mu, sigma\n",
    "\n",
    "# test\n",
    "X = np.array([ [2, 1], [3, 7], [4 ,5] ])\n",
    "\n",
    "sge(X)"
   ]
  },
  {
   "cell_type": "code",
   "execution_count": 85,
   "metadata": {},
   "outputs": [
    {
     "name": "stdout",
     "output_type": "stream",
     "text": "[2, 0, 0]\n5\n"
    },
    {
     "data": {
      "image/png": "[encoded data removed]",
      "image/svg+xml": "<?xml version=\"1.0\" encoding=\"utf-8\" standalone=\"no\"?>\n<!DOCTYPE svg PUBLIC \"-//W3C//DTD SVG 1.1//EN\"\n  \"http://www.w3.org/Graphics/SVG/1.1/DTD/svg11.dtd\">\n<!-- Created with matplotlib (https://matplotlib.org/) -->\n<svg height=\"248.518125pt\" version=\"1.1\" viewBox=\"0 0 377.304687 248.518125\" width=\"377.304687pt\" xmlns=\"http://www.w3.org/2000/svg\" xmlns:xlink=\"http://www.w3.org/1999/xlink\">\n <defs>\n  <style type=\"text/css\">\n*{stroke-linecap:butt;stroke-linejoin:round;}\n  </style>\n </defs>\n <g id=\"figure_1\">\n  <g id=\"patch_1\">\n   <path d=\"M 0 248.518125 \nL 377.304687 248.518125 \nL 377.304687 0 \nL 0 0 \nz\n\" style=\"fill:none;\"/>\n  </g>\n  <g id=\"axes_1\">\n   <g id=\"patch_2\">\n    <path d=\"M 35.304688 224.64 \nL 370.104688 224.64 \nL 370.104688 7.2 \nL 35.304688 7.2 \nz\n\"/>\n   </g>\n   <g id=\"patch_3\">\n    <path clip-path=\"url(#pe836da4c4c)\" d=\"M 202.704688 143.1 \nC 213.803437 143.1 224.449105 140.236144 232.297106 135.139162 \nC 240.145107 130.042181 244.554688 123.12822 244.554688 115.92 \nC 244.554688 108.71178 240.145107 101.797819 232.297106 96.700838 \nC 224.449105 91.603856 213.803437 88.74 202.704688 88.74 \nC 191.605938 88.74 180.96027 91.603856 173.112269 96.700838 \nC 165.264268 101.797819 160.854688 108.71178 160.854688 115.92 \nC 160.854688 123.12822 165.264268 130.042181 173.112269 135.139162 \nC 180.96027 140.236144 191.605938 143.1 202.704688 143.1 \nz\n\" style=\"fill:#bf00bf;opacity:0.3;stroke:#bf00bf;stroke-linejoin:miter;\"/>\n   </g>\n   <g id=\"patch_4\">\n    <path clip-path=\"url(#pe836da4c4c)\" d=\"M 202.704688 170.28 \nC 224.902187 170.28 246.193523 164.552287 261.889525 154.358325 \nC 277.585527 144.164362 286.404688 130.336441 286.404688 115.92 \nC 286.404688 101.503559 277.585527 87.675638 261.889525 77.481675 \nC 246.193523 67.287713 224.902187 61.56 202.704688 61.56 \nC 180.507188 61.56 159.215852 67.287713 143.51985 77.481675 \nC 127.823848 87.675638 119.004688 101.503559 119.004688 115.92 \nC 119.004688 130.336441 127.823848 144.164362 143.51985 154.358325 \nC 159.215852 164.552287 180.507188 170.28 202.704688 170.28 \nz\n\" style=\"fill:#00bfbf;opacity:0.3;stroke:#00bfbf;stroke-linejoin:miter;\"/>\n   </g>\n   <g id=\"patch_5\">\n    <path clip-path=\"url(#pe836da4c4c)\" d=\"M 202.704688 197.46 \nC 236.000937 197.46 267.93794 188.868431 291.481944 173.577487 \nC 315.025947 158.286543 328.254687 137.544661 328.254687 115.92 \nC 328.254687 94.295339 315.025947 73.553457 291.481944 58.262513 \nC 267.93794 42.971569 236.000937 34.38 202.704688 34.38 \nC 169.408438 34.38 137.471435 42.971569 113.927431 58.262513 \nC 90.383428 73.553457 77.154688 94.295339 77.154688 115.92 \nC 77.154688 137.544661 90.383428 158.286543 113.927431 173.577487 \nC 137.471435 188.868431 169.408438 197.46 202.704688 197.46 \nz\n\" style=\"fill:#bfbf00;opacity:0.3;stroke:#bfbf00;stroke-linejoin:miter;\"/>\n   </g>\n   <g id=\"matplotlib.axis_1\">\n    <g id=\"xtick_1\">\n     <g id=\"line2d_1\">\n      <defs>\n       <path d=\"M 0 0 \nL 0 3.5 \n\" id=\"m783be7eaa0\" style=\"stroke:#ffffff;stroke-width:0.8;\"/>\n      </defs>\n      <g>\n       <use style=\"fill:#ffffff;stroke:#ffffff;stroke-width:0.8;\" x=\"76.769149\" xlink:href=\"#m783be7eaa0\" y=\"224.64\"/>\n      </g>\n     </g>\n     <g id=\"text_1\">\n      <!-- −20 -->\n      <defs>\n       <path d=\"M 10.59375 35.5 \nL 73.1875 35.5 \nL 73.1875 27.203125 \nL 10.59375 27.203125 \nz\n\" id=\"DejaVuSans-8722\"/>\n       <path d=\"M 19.1875 8.296875 \nL 53.609375 8.296875 \nL 53.609375 0 \nL 7.328125 0 \nL 7.328125 8.296875 \nQ 12.9375 14.109375 22.625 23.890625 \nQ 32.328125 33.6875 34.8125 36.53125 \nQ 39.546875 41.84375 41.421875 45.53125 \nQ 43.3125 49.21875 43.3125 52.78125 \nQ 43.3125 58.59375 39.234375 62.25 \nQ 35.15625 65.921875 28.609375 65.921875 \nQ 23.96875 65.921875 18.8125 64.3125 \nQ 13.671875 62.703125 7.8125 59.421875 \nL 7.8125 69.390625 \nQ 13.765625 71.78125 18.9375 73 \nQ 24.125 74.21875 28.421875 74.21875 \nQ 39.75 74.21875 46.484375 68.546875 \nQ 53.21875 62.890625 53.21875 53.421875 \nQ 53.21875 48.921875 51.53125 44.890625 \nQ 49.859375 40.875 45.40625 35.40625 \nQ 44.1875 33.984375 37.640625 27.21875 \nQ 31.109375 20.453125 19.1875 8.296875 \nz\n\" id=\"DejaVuSans-50\"/>\n       <path d=\"M 31.78125 66.40625 \nQ 24.171875 66.40625 20.328125 58.90625 \nQ 16.5 51.421875 16.5 36.375 \nQ 16.5 21.390625 20.328125 13.890625 \nQ 24.171875 6.390625 31.78125 6.390625 \nQ 39.453125 6.390625 43.28125 13.890625 \nQ 47.125 21.390625 47.125 36.375 \nQ 47.125 51.421875 43.28125 58.90625 \nQ 39.453125 66.40625 31.78125 66.40625 \nz\nM 31.78125 74.21875 \nQ 44.046875 74.21875 50.515625 64.515625 \nQ 56.984375 54.828125 56.984375 36.375 \nQ 56.984375 17.96875 50.515625 8.265625 \nQ 44.046875 -1.421875 31.78125 -1.421875 \nQ 19.53125 -1.421875 13.0625 8.265625 \nQ 6.59375 17.96875 6.59375 36.375 \nQ 6.59375 54.828125 13.0625 64.515625 \nQ 19.53125 74.21875 31.78125 74.21875 \nz\n\" id=\"DejaVuSans-48\"/>\n      </defs>\n      <g style=\"fill:#ffffff;\" transform=\"translate(66.216805 239.238437)scale(0.1 -0.1)\">\n       <use xlink:href=\"#DejaVuSans-8722\"/>\n       <use x=\"83.789062\" xlink:href=\"#DejaVuSans-50\"/>\n       <use x=\"147.412109\" xlink:href=\"#DejaVuSans-48\"/>\n      </g>\n     </g>\n    </g>\n    <g id=\"xtick_2\">\n     <g id=\"line2d_2\">\n      <g>\n       <use style=\"fill:#ffffff;stroke:#ffffff;stroke-width:0.8;\" x=\"127.549608\" xlink:href=\"#m783be7eaa0\" y=\"224.64\"/>\n      </g>\n     </g>\n     <g id=\"text_2\">\n      <!-- −10 -->\n      <defs>\n       <path d=\"M 12.40625 8.296875 \nL 28.515625 8.296875 \nL 28.515625 63.921875 \nL 10.984375 60.40625 \nL 10.984375 69.390625 \nL 28.421875 72.90625 \nL 38.28125 72.90625 \nL 38.28125 8.296875 \nL 54.390625 8.296875 \nL 54.390625 0 \nL 12.40625 0 \nz\n\" id=\"DejaVuSans-49\"/>\n      </defs>\n      <g style=\"fill:#ffffff;\" transform=\"translate(116.997264 239.238437)scale(0.1 -0.1)\">\n       <use xlink:href=\"#DejaVuSans-8722\"/>\n       <use x=\"83.789062\" xlink:href=\"#DejaVuSans-49\"/>\n       <use x=\"147.412109\" xlink:href=\"#DejaVuSans-48\"/>\n      </g>\n     </g>\n    </g>\n    <g id=\"xtick_3\">\n     <g id=\"line2d_3\">\n      <g>\n       <use style=\"fill:#ffffff;stroke:#ffffff;stroke-width:0.8;\" x=\"178.330067\" xlink:href=\"#m783be7eaa0\" y=\"224.64\"/>\n      </g>\n     </g>\n     <g id=\"text_3\">\n      <!-- 0 -->\n      <g style=\"fill:#ffffff;\" transform=\"translate(175.148817 239.238437)scale(0.1 -0.1)\">\n       <use xlink:href=\"#DejaVuSans-48\"/>\n      </g>\n     </g>\n    </g>\n    <g id=\"xtick_4\">\n     <g id=\"line2d_4\">\n      <g>\n       <use style=\"fill:#ffffff;stroke:#ffffff;stroke-width:0.8;\" x=\"229.110526\" xlink:href=\"#m783be7eaa0\" y=\"224.64\"/>\n      </g>\n     </g>\n     <g id=\"text_4\">\n      <!-- 10 -->\n      <g style=\"fill:#ffffff;\" transform=\"translate(222.748026 239.238437)scale(0.1 -0.1)\">\n       <use xlink:href=\"#DejaVuSans-49\"/>\n       <use x=\"63.623047\" xlink:href=\"#DejaVuSans-48\"/>\n      </g>\n     </g>\n    </g>\n    <g id=\"xtick_5\">\n     <g id=\"line2d_5\">\n      <g>\n       <use style=\"fill:#ffffff;stroke:#ffffff;stroke-width:0.8;\" x=\"279.890985\" xlink:href=\"#m783be7eaa0\" y=\"224.64\"/>\n      </g>\n     </g>\n     <g id=\"text_5\">\n      <!-- 20 -->\n      <g style=\"fill:#ffffff;\" transform=\"translate(273.528485 239.238437)scale(0.1 -0.1)\">\n       <use xlink:href=\"#DejaVuSans-50\"/>\n       <use x=\"63.623047\" xlink:href=\"#DejaVuSans-48\"/>\n      </g>\n     </g>\n    </g>\n    <g id=\"xtick_6\">\n     <g id=\"line2d_6\">\n      <g>\n       <use style=\"fill:#ffffff;stroke:#ffffff;stroke-width:0.8;\" x=\"330.671445\" xlink:href=\"#m783be7eaa0\" y=\"224.64\"/>\n      </g>\n     </g>\n     <g id=\"text_6\">\n      <!-- 30 -->\n      <defs>\n       <path d=\"M 40.578125 39.3125 \nQ 47.65625 37.796875 51.625 33 \nQ 55.609375 28.21875 55.609375 21.1875 \nQ 55.609375 10.40625 48.1875 4.484375 \nQ 40.765625 -1.421875 27.09375 -1.421875 \nQ 22.515625 -1.421875 17.65625 -0.515625 \nQ 12.796875 0.390625 7.625 2.203125 \nL 7.625 11.71875 \nQ 11.71875 9.328125 16.59375 8.109375 \nQ 21.484375 6.890625 26.8125 6.890625 \nQ 36.078125 6.890625 40.9375 10.546875 \nQ 45.796875 14.203125 45.796875 21.1875 \nQ 45.796875 27.640625 41.28125 31.265625 \nQ 36.765625 34.90625 28.71875 34.90625 \nL 20.21875 34.90625 \nL 20.21875 43.015625 \nL 29.109375 43.015625 \nQ 36.375 43.015625 40.234375 45.921875 \nQ 44.09375 48.828125 44.09375 54.296875 \nQ 44.09375 59.90625 40.109375 62.90625 \nQ 36.140625 65.921875 28.71875 65.921875 \nQ 24.65625 65.921875 20.015625 65.03125 \nQ 15.375 64.15625 9.8125 62.3125 \nL 9.8125 71.09375 \nQ 15.4375 72.65625 20.34375 73.4375 \nQ 25.25 74.21875 29.59375 74.21875 \nQ 40.828125 74.21875 47.359375 69.109375 \nQ 53.90625 64.015625 53.90625 55.328125 \nQ 53.90625 49.265625 50.4375 45.09375 \nQ 46.96875 40.921875 40.578125 39.3125 \nz\n\" id=\"DejaVuSans-51\"/>\n      </defs>\n      <g style=\"fill:#ffffff;\" transform=\"translate(324.308945 239.238437)scale(0.1 -0.1)\">\n       <use xlink:href=\"#DejaVuSans-51\"/>\n       <use x=\"63.623047\" xlink:href=\"#DejaVuSans-48\"/>\n      </g>\n     </g>\n    </g>\n   </g>\n   <g id=\"matplotlib.axis_2\">\n    <g id=\"ytick_1\">\n     <g id=\"line2d_7\">\n      <defs>\n       <path d=\"M 0 0 \nL -3.5 0 \n\" id=\"ma089dc03b6\" style=\"stroke:#ffffff;stroke-width:0.8;\"/>\n      </defs>\n      <g>\n       <use style=\"fill:#ffffff;stroke:#ffffff;stroke-width:0.8;\" x=\"35.304688\" xlink:href=\"#ma089dc03b6\" y=\"194.412393\"/>\n      </g>\n     </g>\n     <g id=\"text_7\">\n      <!-- −20 -->\n      <g style=\"fill:#ffffff;\" transform=\"translate(7.2 198.211612)scale(0.1 -0.1)\">\n       <use xlink:href=\"#DejaVuSans-8722\"/>\n       <use x=\"83.789062\" xlink:href=\"#DejaVuSans-50\"/>\n       <use x=\"147.412109\" xlink:href=\"#DejaVuSans-48\"/>\n      </g>\n     </g>\n    </g>\n    <g id=\"ytick_2\">\n     <g id=\"line2d_8\">\n      <g>\n       <use style=\"fill:#ffffff;stroke:#ffffff;stroke-width:0.8;\" x=\"35.304688\" xlink:href=\"#ma089dc03b6\" y=\"161.432396\"/>\n      </g>\n     </g>\n     <g id=\"text_8\">\n      <!-- −10 -->\n      <g style=\"fill:#ffffff;\" transform=\"translate(7.2 165.231615)scale(0.1 -0.1)\">\n       <use xlink:href=\"#DejaVuSans-8722\"/>\n       <use x=\"83.789062\" xlink:href=\"#DejaVuSans-49\"/>\n       <use x=\"147.412109\" xlink:href=\"#DejaVuSans-48\"/>\n      </g>\n     </g>\n    </g>\n    <g id=\"ytick_3\">\n     <g id=\"line2d_9\">\n      <g>\n       <use style=\"fill:#ffffff;stroke:#ffffff;stroke-width:0.8;\" x=\"35.304688\" xlink:href=\"#ma089dc03b6\" y=\"128.452399\"/>\n      </g>\n     </g>\n     <g id=\"text_9\">\n      <!-- 0 -->\n      <g style=\"fill:#ffffff;\" transform=\"translate(21.942188 132.251618)scale(0.1 -0.1)\">\n       <use xlink:href=\"#DejaVuSans-48\"/>\n      </g>\n     </g>\n    </g>\n    <g id=\"ytick_4\">\n     <g id=\"line2d_10\">\n      <g>\n       <use style=\"fill:#ffffff;stroke:#ffffff;stroke-width:0.8;\" x=\"35.304688\" xlink:href=\"#ma089dc03b6\" y=\"95.472402\"/>\n      </g>\n     </g>\n     <g id=\"text_10\">\n      <!-- 10 -->\n      <g style=\"fill:#ffffff;\" transform=\"translate(15.579688 99.271621)scale(0.1 -0.1)\">\n       <use xlink:href=\"#DejaVuSans-49\"/>\n       <use x=\"63.623047\" xlink:href=\"#DejaVuSans-48\"/>\n      </g>\n     </g>\n    </g>\n    <g id=\"ytick_5\">\n     <g id=\"line2d_11\">\n      <g>\n       <use style=\"fill:#ffffff;stroke:#ffffff;stroke-width:0.8;\" x=\"35.304688\" xlink:href=\"#ma089dc03b6\" y=\"62.492405\"/>\n      </g>\n     </g>\n     <g id=\"text_11\">\n      <!-- 20 -->\n      <g style=\"fill:#ffffff;\" transform=\"translate(15.579688 66.291623)scale(0.1 -0.1)\">\n       <use xlink:href=\"#DejaVuSans-50\"/>\n       <use x=\"63.623047\" xlink:href=\"#DejaVuSans-48\"/>\n      </g>\n     </g>\n    </g>\n    <g id=\"ytick_6\">\n     <g id=\"line2d_12\">\n      <g>\n       <use style=\"fill:#ffffff;stroke:#ffffff;stroke-width:0.8;\" x=\"35.304688\" xlink:href=\"#ma089dc03b6\" y=\"29.512407\"/>\n      </g>\n     </g>\n     <g id=\"text_12\">\n      <!-- 30 -->\n      <g style=\"fill:#ffffff;\" transform=\"translate(15.579688 33.311626)scale(0.1 -0.1)\">\n       <use xlink:href=\"#DejaVuSans-51\"/>\n       <use x=\"63.623047\" xlink:href=\"#DejaVuSans-48\"/>\n      </g>\n     </g>\n    </g>\n   </g>\n   <g id=\"line2d_13\">\n    <defs>\n     <path d=\"M -3 3 \nL 3 -3 \nM -3 -3 \nL 3 3 \n\" id=\"md4248c711b\" style=\"stroke:#ff0000;\"/>\n    </defs>\n    <g clip-path=\"url(#pe836da4c4c)\">\n     <use style=\"fill:#ff0000;stroke:#ff0000;\" x=\"188.486159\" xlink:href=\"#md4248c711b\" y=\"125.154399\"/>\n     <use style=\"fill:#ff0000;stroke:#ff0000;\" x=\"193.564205\" xlink:href=\"#md4248c711b\" y=\"105.366401\"/>\n     <use style=\"fill:#ff0000;stroke:#ff0000;\" x=\"198.642251\" xlink:href=\"#md4248c711b\" y=\"78.982403\"/>\n     <use style=\"fill:#ff0000;stroke:#ff0000;\" x=\"208.798343\" xlink:href=\"#md4248c711b\" y=\"111.9624\"/>\n     <use style=\"fill:#ff0000;stroke:#ff0000;\" x=\"224.03248\" xlink:href=\"#md4248c711b\" y=\"158.134396\"/>\n    </g>\n   </g>\n   <g id=\"patch_6\">\n    <path d=\"M 35.304688 224.64 \nL 35.304688 7.2 \n\" style=\"fill:none;stroke:#ffffff;stroke-linecap:square;stroke-linejoin:miter;stroke-width:0.8;\"/>\n   </g>\n   <g id=\"patch_7\">\n    <path d=\"M 370.104688 224.64 \nL 370.104688 7.2 \n\" style=\"fill:none;stroke:#ffffff;stroke-linecap:square;stroke-linejoin:miter;stroke-width:0.8;\"/>\n   </g>\n   <g id=\"patch_8\">\n    <path d=\"M 35.304688 224.64 \nL 370.104687 224.64 \n\" style=\"fill:none;stroke:#ffffff;stroke-linecap:square;stroke-linejoin:miter;stroke-width:0.8;\"/>\n   </g>\n   <g id=\"patch_9\">\n    <path d=\"M 35.304688 7.2 \nL 370.104687 7.2 \n\" style=\"fill:none;stroke:#ffffff;stroke-linecap:square;stroke-linejoin:miter;stroke-width:0.8;\"/>\n   </g>\n   <g id=\"legend_1\">\n    <g id=\"patch_10\">\n     <path d=\"M 315.201563 59.234375 \nL 363.104688 59.234375 \nQ 365.104688 59.234375 365.104688 57.234375 \nL 365.104688 14.2 \nQ 365.104688 12.2 363.104688 12.2 \nL 315.201563 12.2 \nQ 313.201563 12.2 313.201563 14.2 \nL 313.201563 57.234375 \nQ 313.201563 59.234375 315.201563 59.234375 \nz\n\" style=\"opacity:0.8;stroke:#cccccc;stroke-linejoin:miter;\"/>\n    </g>\n    <g id=\"patch_11\">\n     <path d=\"M 317.201563 23.798437 \nL 337.201563 23.798437 \nL 337.201563 16.798437 \nL 317.201563 16.798437 \nz\n\" style=\"fill:#bf00bf;opacity:0.3;stroke:#bf00bf;stroke-linejoin:miter;\"/>\n    </g>\n    <g id=\"text_13\">\n     <!-- 0.4 -->\n     <defs>\n      <path d=\"M 10.6875 12.40625 \nL 21 12.40625 \nL 21 0 \nL 10.6875 0 \nz\n\" id=\"DejaVuSans-46\"/>\n      <path d=\"M 37.796875 64.3125 \nL 12.890625 25.390625 \nL 37.796875 25.390625 \nz\nM 35.203125 72.90625 \nL 47.609375 72.90625 \nL 47.609375 25.390625 \nL 58.015625 25.390625 \nL 58.015625 17.1875 \nL 47.609375 17.1875 \nL 47.609375 0 \nL 37.796875 0 \nL 37.796875 17.1875 \nL 4.890625 17.1875 \nL 4.890625 26.703125 \nz\n\" id=\"DejaVuSans-52\"/>\n     </defs>\n     <g style=\"fill:#ffffff;\" transform=\"translate(345.201563 23.798437)scale(0.1 -0.1)\">\n      <use xlink:href=\"#DejaVuSans-48\"/>\n      <use x=\"63.623047\" xlink:href=\"#DejaVuSans-46\"/>\n      <use x=\"95.410156\" xlink:href=\"#DejaVuSans-52\"/>\n     </g>\n    </g>\n    <g id=\"patch_12\">\n     <path d=\"M 317.201563 38.476562 \nL 337.201563 38.476562 \nL 337.201563 31.476562 \nL 317.201563 31.476562 \nz\n\" style=\"fill:#00bfbf;opacity:0.3;stroke:#00bfbf;stroke-linejoin:miter;\"/>\n    </g>\n    <g id=\"text_14\">\n     <!-- 0.0 -->\n     <g style=\"fill:#ffffff;\" transform=\"translate(345.201563 38.476562)scale(0.1 -0.1)\">\n      <use xlink:href=\"#DejaVuSans-48\"/>\n      <use x=\"63.623047\" xlink:href=\"#DejaVuSans-46\"/>\n      <use x=\"95.410156\" xlink:href=\"#DejaVuSans-48\"/>\n     </g>\n    </g>\n    <g id=\"patch_13\">\n     <path d=\"M 317.201563 53.154687 \nL 337.201563 53.154687 \nL 337.201563 46.154687 \nL 317.201563 46.154687 \nz\n\" style=\"fill:#bfbf00;opacity:0.3;stroke:#bfbf00;stroke-linejoin:miter;\"/>\n    </g>\n    <g id=\"text_15\">\n     <!-- 0.0 -->\n     <g style=\"fill:#ffffff;\" transform=\"translate(345.201563 53.154687)scale(0.1 -0.1)\">\n      <use xlink:href=\"#DejaVuSans-48\"/>\n      <use x=\"63.623047\" xlink:href=\"#DejaVuSans-46\"/>\n      <use x=\"95.410156\" xlink:href=\"#DejaVuSans-48\"/>\n     </g>\n    </g>\n   </g>\n  </g>\n </g>\n <defs>\n  <clipPath id=\"pe836da4c4c\">\n   <rect height=\"217.44\" width=\"334.8\" x=\"35.304688\" y=\"7.2\"/>\n  </clipPath>\n </defs>\n</svg>\n",
      "text/plain": "<Figure size 432x288 with 1 Axes>"
     },
     "metadata": {
      "needs_background": "dark"
     },
     "output_type": "display_data"
    }
   ],
   "source": [
    "#(c) and (d)\n",
    "%matplotlib inline\n",
    "#%matplotlib notebook\n",
    "import numpy as np\n",
    "#import matplotlib\n",
    "import matplotlib.pyplot as plt # for plots\n",
    "\n",
    "\n",
    "def myplot1(X):\n",
    "    \"\"\"\n",
    "        *TODO* Add description of the function here.\n",
    "    \n",
    "        @param X : A numpy array of size n x p where each row represents a p-dimensional data point\n",
    "    \"\"\"\n",
    "\n",
    "    # only use the first two dimensions\n",
    "    X = X[:,:2]\n",
    "\n",
    "    # data dimensions\n",
    "    n = len(X)\n",
    "\n",
    "    # compute parameters\n",
    "    mu, sigma = sge(X)\n",
    "    \n",
    "    # define figure\n",
    "    fig, ax = plt.subplots();\n",
    "    scale = 4\n",
    "    x_min = mu[0] - scale*np.sqrt(2)*sigma\n",
    "    x_max = mu[0] + scale*np.sqrt(2)*sigma\n",
    "    y_min = mu[1] - scale*np.sqrt(2)*sigma\n",
    "    y_max = mu[1] + scale*np.sqrt(2)*sigma\n",
    "    ax.set_xlim(x_min, x_max)\n",
    "    ax.set_ylim(y_min, y_max)\n",
    "    #ax.axis(\"equal\")\n",
    "\n",
    "    # scatterplot datapoints\n",
    "    ax.plot(X[:,0],X[:,1],'rx');\n",
    "    \n",
    "    # define the radii\n",
    "    R = [np.sqrt(2)*sigma*(k+1) for k in range(3)]\n",
    "    \n",
    "    # compute the number of points outside of the circles\n",
    "    outside = [0,0,0]\n",
    "    k = 0\n",
    "    # for each circle\n",
    "    for r in R:\n",
    "        # and for each point\n",
    "        for x in X:\n",
    "            # compute the distance from mu\n",
    "            d = np.linalg.norm(x - mu)\n",
    "            if d > r:\n",
    "                # increment count if it is outside current circle\n",
    "                outside[k] += 1\n",
    "        k += 1\n",
    "\n",
    "    # convert counts to fractions\n",
    "    outside = np.array(outside)/n\n",
    "\n",
    "    # plot circles\n",
    "    circles = []\n",
    "    for k in range(3):\n",
    "        colors = ['m', 'c', 'y']\n",
    "        circles.append(plt.Circle(mu, radius=R[k], color=colors[k], alpha=0.3))\n",
    "        ax.add_artist(circles[k]);\n",
    "\n",
    "    # display legend\n",
    "    ax.legend(circles, outside)\n",
    "    plt.show()\n",
    "\n",
    "# Load the dataset\n",
    "X = np.array([ [2, 1], [3, 7], [4 ,15], [6,5], [9,-9] ])\n",
    "#dataset_source = np.DataSource().open('http://bit.ly/2U4CgyW')\n",
    "#X = np.loadtxt(dataset_source)\n",
    "\n",
    "# Plot. TODO Make sure to only plot the first two features.\n",
    "myplot1(X)\n"
   ]
  },
  {
   "cell_type": "code",
   "execution_count": null,
   "metadata": {},
   "outputs": [],
   "source": []
  }
 ],
 "metadata": {
  "colab": {
   "name": "Hw1_2019.ipynb",
   "provenance": [
    {
     "file_id": "1Y5XjPfo2fv3nGBtIxbf0F_WFtssz1N_S",
     "timestamp": 1553254350644
    }
   ],
   "version": "0.3.2"
  },
  "kernelspec": {
   "display_name": "Python 3",
   "language": "python",
   "name": "python3"
  },
  "language_info": {
   "codemirror_mode": {
    "name": "ipython",
    "version": 3
   },
   "file_extension": ".py",
   "mimetype": "text/x-python",
   "name": "python",
   "nbconvert_exporter": "python",
   "pygments_lexer": "ipython3",
   "version": "3.7.3"
  }
 },
 "nbformat": 4,
 "nbformat_minor": 1
}