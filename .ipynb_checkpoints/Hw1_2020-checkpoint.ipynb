{
 "cells": [
  {
   "cell_type": "markdown",
   "metadata": {
    "colab_type": "text",
    "id": "1UKOQcXNtJ8e"
   },
   "source": [
    "$\\qquad$ $\\qquad$$\\qquad$  **TDA 231 Machine Learning: Homework 1** <br />\n",
    "$\\qquad$ $\\qquad$$\\qquad$ **Goal: Introduction to Probability,  MLE and Jupyter python Notebook**<br />\n",
    "$\\qquad$ $\\qquad$$\\qquad$                   **Grader: Emilio** <br />\n",
    "$\\qquad$ $\\qquad$$\\qquad$                   **Submitted by: Name, Personal no., email** <br />"
   ]
  },
  {
   "cell_type": "markdown",
   "metadata": {
    "colab_type": "text",
    "id": "PQ8gZxqWtJ8h"
   },
   "source": [
    "General guidelines:\n",
    "* All solutions to theoretical and pratical problems must be submitted in this ipynb notebook, and equations wherever required, should be formatted using LaTeX math-mode.\n",
    "* All discussion regarding practical problems, along with solutions and plots should be specified in this notebook. \n",
    "All plots/results should be visible such that the notebook do not have to be run. But the code in the notebook should reproduce the plots/results if we choose to do so.\n",
    "* Your name, personal number and email address should be specified above.\n",
    "* All tables and other additional information should be included in this notebook.\n",
    "* ** Before submitting, make sure that your code can run on another computer. That all plots can show on another computer including all your writing. It is good to check if your code can run here: https://colab.research.google.com **\n",
    "* ** Upload both the .ipynb and the generatable .html file (that can be exported through File > Download As > HTML) **"
   ]
  },
  {
   "cell_type": "markdown",
   "metadata": {
    "colab_type": "text",
    "id": "vrnQ98KgtJ8i"
   },
   "source": [
    "**Jupyter/IPython Notebook** is a collaborative Python web-based environment. This will be used in all our Homework Assignments. It is installed in the halls ES61-ES62, E-studio and MT9. You can also use google-colab: https://colab.research.google.com\n",
    "to run these notebooks without having to download, install, or do anything on your own computer other than a browser.\n",
    "Some useful resources:\n",
    "1. https://jupyter-notebook-beginner-guide.readthedocs.io/en/latest/ (Quick-start guide)\n",
    "2. https://www.kdnuggets.com/2016/04/top-10-ipython-nb-tutorials.html\n",
    "3. http://data-blog.udacity.com/posts/2016/10/latex-primer/ (latex-primer)\n",
    "4. http://jupyter-notebook.readthedocs.io/en/stable/examples/Notebook/Working%20With%20Markdown%20Cells.html (markdown)"
   ]
  },
  {
   "cell_type": "markdown",
   "metadata": {
    "colab_type": "text",
    "id": "fl1Lu21rtJ8k"
   },
   "source": [
    "# Theoretical problems\n",
    "\n",
    "## [Bayes Rule, 3 points]\n",
    "\n",
    "After your yearly checkup, the doctor has bad news and good news. The\n",
    "bad news is that you tested positive for a very serious cancer and\n",
    "that the test is 99.2% accurate i.e. the probability of testing\n",
    "positive given you have the disease is 0.992. The probability of\n",
    "testing negative if you don’t have the disease is the same (also 0.992). The good news is that it is a rare condition affecting only 1 in 1,000 people. What is the probability you actually have the disease? \n",
    "\n",
    "After doing all your calculations you realize that there was a misprint on the test, and the accuracy was actually only 92% (for both testing postive given that you have the disease and for testing negative given that you do not have the disease). How will this change your probability of having the disease?\n",
    "\n",
    "(Show all calculations and the final result.)\n"
   ]
  },
  {
   "cell_type": "markdown",
   "metadata": {},
   "source": [
    "## [Setting hyperparameters, 2 points]\n",
    "\n",
    "Suppose $\\theta$ is a random variable generated from a beta distribution as: $\\theta \\sim \\mbox{Beta}(a^2,b)$. Also assume that  the expectation of $\\theta$ is $m$: $E[\\theta] = m$\n",
    "and the variance of $\\theta$ is v: $\\mbox{var}(\\theta) = v$. Express $a$ and $b$ in term of (only) $m$ and $v$.\n",
    "For more information about the $\\mbox{Beta}$ distribution see https://en.wikipedia.org/wiki/Beta_distribution."
   ]
  },
  {
   "cell_type": "markdown",
   "metadata": {},
   "source": [
    "\n",
    "## [Correlation and Independence, 2 points]\n",
    "\n",
    "Let $X$ be a continuous random variable, uniformly distributed in $[-2, +2]$ and let $Y := X^4$. Clearly $Y$ is not independent of $X$ -- in fact it is uniquely determined by $X$. However, show that the covariance of $X$ and $Y$ is 0: $\\mbox{cov}(X, Y ) = 0$.\n",
    "Show and justify every step of the proof. Statements like \"it is obvious that, it is trivial ...\" will not be accepted."
   ]
  },
  {
   "cell_type": "markdown",
   "metadata": {
    "colab_type": "text",
    "id": "lO0M1fgXMtMD"
   },
   "source": [
    "Write Answers  here. Double-click (or enter) to edit. Latex mathematical expressions can just be written by starting with \"$\" and ending with the same character.\n",
    "\n",
    "## Bayes Rules\n",
    "a)\n",
    "$$\n",
    "\\text{Let } D = \\left\\{\\begin{matrix}\n",
    "1, \\quad \\text{if have disease}\\\\ \n",
    "0, \\quad \\text{else,} \\hfill\n",
    "\\end{matrix}\\right.\n",
    "$$\n",
    "\n",
    "$$\n",
    "\\text{Let } T = \\left\\{\\begin{matrix}\n",
    "1, \\quad \\text{if test positive}\\\\ \n",
    "0, \\quad \\text{else,} \\hfill\n",
    "\\end{matrix}\\right.\n",
    "$$\n",
    "\n",
    "The likelihood $P(T|D)$ for $P(T=1 | D=1) = 0.992$ and $P(T=1 | D=0) = 0.008$,\n",
    "\n",
    "the prior distribution $P(D)$ for $P(D=1) = 0.001$ and $P(D=0) = 0.999$.\n",
    "\n",
    "The posterior $P(D|T)$ is then given by Bayes rule:\n",
    "$$\n",
    "\\Rightarrow P(D = 1 | T = 1) = \\frac{P(T=1 | D=1)P(D=1)}{P(T=1 | D=1)P(D=1) + P(T=1 | D=0)P(D=0)}\n",
    "$$\n",
    "\n",
    "$$\n",
    "\\Rightarrow P(D = 1 | T = 1) = \\frac{0.992 \\cdot 0.001}{0.992 \\cdot 0.001 + 0.008 \\cdot 0.999} \\approx 0.110.\n",
    "$$\n",
    "\n",
    "According to Bayes Rule the probability of having the disease given the test is positive is 11.0\\%.\n",
    "\n",
    "b)\n",
    "\n",
    "The likelihood changes to $P(T=1 | D=1) = 0.92$ and $P(T=1 | D=0) = 0.08$, which changes the result to:\n",
    "\n",
    "$$\n",
    "\\Rightarrow P(D = 1 | T = 1) = \\frac{0.92 \\cdot 0.001}{0.92 \\cdot 0.001 + 0.08 \\cdot 0.999} \\approx 0.0114.\n",
    "$$\n",
    "\n",
    "According to Bayes Rule the probability of having the disease given the test is positive with the changed probability is 1.14\\%.\n",
    "\n",
    "## Setting hyperparameters\n",
    "\n",
    "For $\\theta \\sim Beta(a,b)$ we have that $\\mu_\\theta = E[\\theta] = \\frac{a}{a+b}$ and $Var(\\theta) = \\frac{\\mu_{\\theta}(1-\\mu_{\\theta})}{a+b+1}$.\n",
    "Combined with the given equations $E[\\theta] = m$ and $Var(\\theta) = v$ we can express $a$ and $b$ in term of (only) $m$ and $v$ by solving the following equations.\n",
    "\n",
    "$(1) \\qquad \\frac{a}{a+b} = m$\n",
    "\n",
    "$(2) \\qquad \\frac{m(1-m)}{a+b+1} = v$\n",
    "\n",
    "So in this system of equations we arrive with the following expressions for $a$ and $b$:\n",
    "\n",
    "$$\n",
    "\\Rightarrow \\left\\{\\begin{matrix}\n",
    "a = \\frac{m^2(1-m)}{v}-m \\hfill \\\\ \n",
    "b = \\Big(\\frac{m(1-m)}{v}-1\\Big)(1-m).\n",
    "\\end{matrix}\\right.\n",
    "$$\n",
    "\n",
    "$\\color{red}{\\text{Obs $a$ eller $a^2$!!!!!!!!!!!}}$\n",
    "\n",
    "## Correlation\n",
    "\n",
    "For a continuous uniformly distributed variable $X \\sim U(a,b)$ with interval limits $a$ and $b$, we have that $E[X] = \\frac{a+b}{2}$ and $Var(X) = \\frac{(b-a)^2}{12}$. For our case $a=-2$ and $b=2$. Hence the expectation and variance becomes\n",
    "\n",
    "$$E[X] = \\frac{2-2}{2} = 0, \\qquad Var(X) = \\frac{(2-(-2))^2}{12} = \\frac{4}{3}.$$\n",
    "\n",
    "Since a probability distribution must have that $\\int_{-\\infty}^{\\infty} f_X(x)dx = 1$ and the fact that the uniform distribution is constant for $x \\in [a,b]$ and $0$ otherwise, we get that\n",
    "$$ \\int_{-\\infty}^{\\infty} f_X(x)dx = \\int_{-2}^{2} c dx = c\\left[x\\right]_{-2}^2 = 4c = 1 \\Leftrightarrow c = f_X(x) = \\frac{1}{4}$$ \n",
    "\n",
    "\n",
    "The covariance of two random variables is defined as $Cov(X,Y) = E[ (X-E[X])(Y-E[Y]) ]$.\n",
    "\n",
    "\\begin{align*}\n",
    "Cov(X,Y) & = E[ (X-E[X])(Y-E[Y])]\\\\\n",
    "&= E[XY - XE[Y] - YE[X] + E[X]E[Y]]\\\\\n",
    "&= E[XY] - E[Y]E[X] - E[X]E[Y] + E[X]E[Y] \\quad \\rightarrow \\{\\text{since } E[X]=0 \\} \\rightarrow \\\\\n",
    "&= E[XY].\n",
    "\\end{align*}\n",
    "\n",
    "We can use that:\n",
    "\n",
    "$$E[g(X)] = \\int_{\\mathbb{R}} g(x) f_X(x) dx\n",
    "$$\n",
    "\n",
    "\n",
    "For $Y = X^4$ we get the following results:\n",
    "\n",
    "\\begin{align*}\n",
    "Cov(X,Y) &= E[XY] = E[X^5] = \\int_{-\\infty}^{\\infty}x^5f_X(x) dx \\\\\n",
    "&= \\int_{-2}^{2}x^5\\frac{1}{4} dx = \\frac{1}{4}\\Big[\\frac{x^6}{6}\\Big]_{-2}^2 \\\\\n",
    "&= \\frac{1}{4}\\frac{1}{6}(2^6-(-2)^6) = \\frac{1}{24}(2^6-2^6) = 0. \\quad \\square\n",
    "\\end{align*}"
   ]
  },
  {
   "cell_type": "markdown",
   "metadata": {
    "colab_type": "text",
    "id": "498qdw9utJ8t"
   },
   "source": [
    "# Practical problems\n",
    "\n",
    "**Useful python libraries/functions:**\n",
    "* **General:**  shape, reshape, np.mean etc.\n",
    "* **Plotting:** plot, scatter, legend, hold, imshow, subplot, grid, title etc. Always show legends for your plots.\n",
    "* **Code:**  Make sure your code is well commented and variables have intuitive names. Organize your code into functions and comment on the input and output.\n",
    "\n",
    "## [Spherical Gaussian estimation, 9 points]\n",
    "\n",
    "Consider a dataset $X$ consisting of i.i.d. observations\n",
    "generated from a spherical Gaussian distribution $N(\\mu, 2\\sigma^2I)$, where $\\mu \\in \\mathbb{R}^p$, $I$ \n",
    "is the $p \\times p $ identity matrix, and $\\sigma^2$ is a scalar.\n",
    "\n",
    "(a) Write the mathematical expression for the Maximum Likelihood Estimator (MLE) for $\\mu$ and $\\sigma$ in above setup. (HINT: Use latex equations here).\n",
    "\n",
    "(b) Implement a function **sge(X)** that estimates the mean $\\mu$ and the standard deviation $\\sigma$ from the given data $X$, using exactly the mathematical expression derived in (a). Note: You cannot use **numpy.cov**, **numpy.mean**, **numpy.sum** or any other library functions for calculating the mean, variance, standard deviation. (Hint: A skeleton of this function **sge(X)** is provided in the code from the next cell).\n",
    "\n",
    "(c) Implement a function **myplot1(X)** which takes as input the dataset $X$; and draws, on the same plot, the following:\n",
    "1. A scatter plot of the original data $X$, \n",
    "2. Circles with center $\\mu$ and radius $r= \\sqrt{2}k\\sigma$ for $k=1, 2, 3$ where $\\mathbf{\\mu}$ and $\\sigma$ denotes the mean and standard deviation estimated using **sge(X)**. \n",
    "3. Legend for each circle indicating the fraction of points (in the original dataset) that lie outside the circle boundary.\n",
    "\n",
    "(d) Load the dataset from http://bit.ly/HW1_2019 and run your code using only the first two features of the dataset. Submit the resulting plot as well as your implementation here.\n",
    "\n",
    "For more information about the spherical Gaussian distribution, see https://en.wikipedia.org/wiki/Multivariate_normal_distribution.\n",
    "For more information about the identity matrix see: https://en.wikipedia.org/wiki/Identity_matrix"
   ]
  },
  {
   "cell_type": "markdown",
   "metadata": {
    "colab_type": "text",
    "id": "p282-fJHL66U"
   },
   "source": [
    "Double-click (or enter) to edit. Write Answer to (a) here. Latex mathematical expressions can just be written by starting with \"$\" and ending with the same character.\n",
    "\n",
    "a)\n",
    "\n",
    "$$\n",
    "\\begin{matrix}\n",
    "\\hat \\mu = \\frac{1}{N} \\sum_{i=1}^N \\mathbf{x}^{(i)} \\hfill \\\\ \n",
    "\\hat{\\sigma} = \\frac{1}{2N}\\sum_{i=1}^N |\\mathbf{x}^{(i)} - \\mathbf{\\hat{\\mu}}|^2.\n",
    "\\end{matrix}\n",
    "$$"
   ]
  },
  {
   "cell_type": "code",
   "execution_count": 32,
   "metadata": {
    "colab": {},
    "colab_type": "code",
    "id": "t5UUxqUzBIV9"
   },
   "outputs": [
    {
     "data": {
      "text/plain": [
       "(array([3.        , 4.33333333]), 3.4444444444444446)"
      ]
     },
     "execution_count": 32,
     "metadata": {},
     "output_type": "execute_result"
    }
   ],
   "source": [
    "# Sample Answer to (b)\n",
    "import numpy as np # numpy\n",
    "\n",
    "\n",
    "def sge(X):\n",
    "    \"\"\"\n",
    "    This function computes  the mean mu and standard deviation sigma \n",
    "    for a dataset coming from spherical Gaussian distribution N(mu, 2 sigma^2 I)\n",
    "\n",
    "    @param X : A numpy array of size n x p where each row represents a p-dimensional data point\n",
    "    e.g. X = [ [2, 1], [3, 7], [4 ,5] ] is a dataset with 3 samples having two coordinates each.\n",
    "    @return mu: A numpy array of size p representing the estimated mean of the dataset\n",
    "    @return sigma: A real number indicating the estimated standard deviation of the dataset\n",
    "    \"\"\"\n",
    "    \n",
    "    mu = np.zeros(X.shape[1])\n",
    "    sigma = 0\n",
    "    \n",
    "    n = len(X)\n",
    "    p = len(mu)\n",
    "    for i in range(p):\n",
    "        for x in X:\n",
    "            mu[i] = mu[i] + x[i]         \n",
    "    mu = mu/n\n",
    "        \n",
    "    d = np.zeros(X.shape)\n",
    "    for j in range(n):\n",
    "        d[j] = X[j] - mu\n",
    "    #print(d)\n",
    "    \n",
    "    #sum = 0\n",
    "    for k in range(n):\n",
    "        #sum += np.transpose(d[k])*d[k]\n",
    "        \n",
    "        for l in range(p):\n",
    "            sigma += (d[k,l]**2)\n",
    "            \n",
    "        \n",
    "    #print(sum)\n",
    "    \n",
    "    #sum = 0\n",
    "    #for j in range(n):\n",
    "    #    sum += d[j]**2\n",
    "            \n",
    "        \n",
    "    sigma = sigma/(2*n)\n",
    "    \n",
    "    return mu, sigma\n",
    "\n",
    "# test\n",
    "X = np.array([ [2, 1], [3, 7], [4 ,5] ])\n",
    "\n",
    "sge(X)"
   ]
  },
  {
   "cell_type": "code",
   "execution_count": 42,
   "metadata": {
    "colab": {},
    "colab_type": "code",
    "id": "bXTnJdWTtJ8v"
   },
   "outputs": [
    {
     "ename": "OSError",
     "evalue": "http://bit.ly/2U4CgyW not found.",
     "output_type": "error",
     "traceback": [
      "\u001b[0;31m---------------------------------------------------------------------------\u001b[0m",
      "\u001b[0;31mOSError\u001b[0m                                   Traceback (most recent call last)",
      "\u001b[0;32m<ipython-input-42-2b4cc72fa8fe>\u001b[0m in \u001b[0;36m<module>\u001b[0;34m\u001b[0m\n\u001b[1;32m     22\u001b[0m \u001b[0;34m\u001b[0m\u001b[0m\n\u001b[1;32m     23\u001b[0m \u001b[0;31m# Load the dataset\u001b[0m\u001b[0;34m\u001b[0m\u001b[0;34m\u001b[0m\u001b[0;34m\u001b[0m\u001b[0m\n\u001b[0;32m---> 24\u001b[0;31m \u001b[0mdataset_source\u001b[0m \u001b[0;34m=\u001b[0m \u001b[0mnp\u001b[0m\u001b[0;34m.\u001b[0m\u001b[0mDataSource\u001b[0m\u001b[0;34m(\u001b[0m\u001b[0;34m)\u001b[0m\u001b[0;34m.\u001b[0m\u001b[0mopen\u001b[0m\u001b[0;34m(\u001b[0m\u001b[0;34m'http://bit.ly/2U4CgyW'\u001b[0m\u001b[0;34m)\u001b[0m\u001b[0;34m\u001b[0m\u001b[0;34m\u001b[0m\u001b[0m\n\u001b[0m\u001b[1;32m     25\u001b[0m \u001b[0mX\u001b[0m \u001b[0;34m=\u001b[0m \u001b[0mnp\u001b[0m\u001b[0;34m.\u001b[0m\u001b[0mloadtxt\u001b[0m\u001b[0;34m(\u001b[0m\u001b[0mdataset_source\u001b[0m\u001b[0;34m)\u001b[0m\u001b[0;34m\u001b[0m\u001b[0;34m\u001b[0m\u001b[0m\n\u001b[1;32m     26\u001b[0m \u001b[0;34m\u001b[0m\u001b[0m\n",
      "\u001b[0;32m~/anaconda3/lib/python3.7/site-packages/numpy/lib/_datasource.py\u001b[0m in \u001b[0;36mopen\u001b[0;34m(self, path, mode, encoding, newline)\u001b[0m\n\u001b[1;32m    622\u001b[0m                                       encoding=encoding, newline=newline)\n\u001b[1;32m    623\u001b[0m         \u001b[0;32melse\u001b[0m\u001b[0;34m:\u001b[0m\u001b[0;34m\u001b[0m\u001b[0;34m\u001b[0m\u001b[0m\n\u001b[0;32m--> 624\u001b[0;31m             \u001b[0;32mraise\u001b[0m \u001b[0mIOError\u001b[0m\u001b[0;34m(\u001b[0m\u001b[0;34m\"%s not found.\"\u001b[0m \u001b[0;34m%\u001b[0m \u001b[0mpath\u001b[0m\u001b[0;34m)\u001b[0m\u001b[0;34m\u001b[0m\u001b[0;34m\u001b[0m\u001b[0m\n\u001b[0m\u001b[1;32m    625\u001b[0m \u001b[0;34m\u001b[0m\u001b[0m\n\u001b[1;32m    626\u001b[0m \u001b[0;34m\u001b[0m\u001b[0m\n",
      "\u001b[0;31mOSError\u001b[0m: http://bit.ly/2U4CgyW not found."
     ]
    }
   ],
   "source": [
    "# Sample Answer to (c) and (d)\n",
    "#%matplotlib inline  # Make it possible to show plots in the notebooks.\n",
    "%matplotlib notebook\n",
    "import numpy as np\n",
    "import matplotlib\n",
    "import matplotlib.pyplot as plt # for plots\n",
    "\n",
    "\n",
    "# Sample code\n",
    "def myplot1(X):\n",
    "    \"\"\"\n",
    "        *TODO* Add description of the function here.\n",
    "    \n",
    "        @param X : A numpy array of size n x p where each row represents a p-dimensional data point\n",
    "    \"\"\"\n",
    "\n",
    "    \n",
    "  \n",
    "    plt.plot(X);  # Adding ; to avoid  this function to output things like: \"[<matplotlib.lines.Line2D at 0x7fb0551e1630> ...\"\n",
    "\n",
    "\n",
    "\n",
    "# Load the dataset\n",
    "X = np.array([ [2, 1], [3, 7], [4 ,5] ])\n",
    "#dataset_source = np.DataSource().open('http://bit.ly/2U4CgyW')\n",
    "#X = np.loadtxt(dataset_source)\n",
    "\n",
    "# Plot. TODO Make sure to only plot the first two features.\n",
    "myplot1(X)\n",
    "\n",
    "\n"
   ]
  },
  {
   "cell_type": "code",
   "execution_count": 39,
   "metadata": {},
   "outputs": [
    {
     "ename": "NameError",
     "evalue": "name 'plt' is not defined",
     "output_type": "error",
     "traceback": [
      "\u001b[0;31m---------------------------------------------------------------------------\u001b[0m",
      "\u001b[0;31mNameError\u001b[0m                                 Traceback (most recent call last)",
      "\u001b[0;32m<ipython-input-39-7928eb448bba>\u001b[0m in \u001b[0;36m<module>\u001b[0;34m\u001b[0m\n\u001b[0;32m----> 1\u001b[0;31m \u001b[0mplt\u001b[0m\u001b[0;34m.\u001b[0m\u001b[0mplot\u001b[0m\u001b[0;34m(\u001b[0m\u001b[0;34m[\u001b[0m\u001b[0;36m1\u001b[0m\u001b[0;34m,\u001b[0m\u001b[0;36m2\u001b[0m\u001b[0;34m,\u001b[0m\u001b[0;36m3\u001b[0m\u001b[0;34m]\u001b[0m\u001b[0;34m)\u001b[0m\u001b[0;34m\u001b[0m\u001b[0;34m\u001b[0m\u001b[0m\n\u001b[0m",
      "\u001b[0;31mNameError\u001b[0m: name 'plt' is not defined"
     ]
    }
   ],
   "source": [
    "plt.plot([1,2,3])\n"
   ]
  },
  {
   "cell_type": "code",
   "execution_count": 36,
   "metadata": {},
   "outputs": [
    {
     "ename": "NameError",
     "evalue": "name 'plt' is not defined",
     "output_type": "error",
     "traceback": [
      "\u001b[0;31m---------------------------------------------------------------------------\u001b[0m",
      "\u001b[0;31mNameError\u001b[0m                                 Traceback (most recent call last)",
      "\u001b[0;32m<ipython-input-36-c22fc3c071de>\u001b[0m in \u001b[0;36m<module>\u001b[0;34m\u001b[0m\n\u001b[0;32m----> 1\u001b[0;31m \u001b[0mplt\u001b[0m\u001b[0;34m.\u001b[0m\u001b[0mplot\u001b[0m\u001b[0;34m(\u001b[0m\u001b[0mX\u001b[0m\u001b[0;34m)\u001b[0m\u001b[0;34m\u001b[0m\u001b[0;34m\u001b[0m\u001b[0m\n\u001b[0m",
      "\u001b[0;31mNameError\u001b[0m: name 'plt' is not defined"
     ]
    }
   ],
   "source": [
    "plt.plot(X)"
   ]
  },
  {
   "cell_type": "code",
   "execution_count": null,
   "metadata": {},
   "outputs": [],
   "source": []
  }
 ],
 "metadata": {
  "colab": {
   "name": "Hw1_2019.ipynb",
   "provenance": [
    {
     "file_id": "1Y5XjPfo2fv3nGBtIxbf0F_WFtssz1N_S",
     "timestamp": 1553254350644
    }
   ],
   "version": "0.3.2"
  },
  "kernelspec": {
   "display_name": "Python 3",
   "language": "python",
   "name": "python3"
  },
  "language_info": {
   "codemirror_mode": {
    "name": "ipython",
    "version": 3
   },
   "file_extension": ".py",
   "mimetype": "text/x-python",
   "name": "python",
   "nbconvert_exporter": "python",
   "pygments_lexer": "ipython3",
   "version": "3.7.3"
  }
 },
 "nbformat": 4,
 "nbformat_minor": 1
}
